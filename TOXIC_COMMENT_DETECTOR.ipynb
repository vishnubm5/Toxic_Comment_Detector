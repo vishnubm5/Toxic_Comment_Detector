{
 "cells": [
  {
   "cell_type": "code",
   "execution_count": 1,
   "id": "a255b559",
   "metadata": {},
   "outputs": [],
   "source": [
    "import pandas as pd\n",
    "import numpy as np\n",
    "import tensorflow as tf\n",
    "from tensorflow.keras.preprocessing.text import Tokenizer\n",
    "from tensorflow.keras.preprocessing.sequence import pad_sequences\n",
    "from tensorflow.keras.models import Sequential\n",
    "from tensorflow.keras.layers import Embedding, Bidirectional, LSTM, Dense, Dropout\n",
    "from tensorflow.keras.callbacks import EarlyStopping, ReduceLROnPlateau\n",
    "from tensorflow.keras.utils import to_categorical\n",
    "from sklearn.model_selection import train_test_split\n",
    "from sklearn.metrics import classification_report, confusion_matrix\n",
    "import matplotlib.pyplot as plt\n",
    "import re\n",
    "import nltk\n",
    "from nltk.corpus import stopwords\n",
    "from nltk.tokenize import word_tokenize\n",
    "from sklearn.utils import resample"
   ]
  },
  {
   "cell_type": "code",
   "execution_count": 2,
   "id": "401e4f28",
   "metadata": {},
   "outputs": [
    {
     "name": "stderr",
     "output_type": "stream",
     "text": [
      "[nltk_data] Downloading package stopwords to C:\\Users\\Vishnu Bharadwaj\n",
      "[nltk_data]     M\\AppData\\Roaming\\nltk_data...\n",
      "[nltk_data]   Package stopwords is already up-to-date!\n",
      "[nltk_data] Downloading package punkt to C:\\Users\\Vishnu Bharadwaj\n",
      "[nltk_data]     M\\AppData\\Roaming\\nltk_data...\n",
      "[nltk_data]   Package punkt is already up-to-date!\n"
     ]
    },
    {
     "data": {
      "text/plain": [
       "True"
      ]
     },
     "execution_count": 2,
     "metadata": {},
     "output_type": "execute_result"
    }
   ],
   "source": [
    "nltk.download('stopwords')\n",
    "nltk.download('punkt')"
   ]
  },
  {
   "cell_type": "code",
   "execution_count": 3,
   "id": "466f0627",
   "metadata": {},
   "outputs": [],
   "source": [
    "# Load dataset\n",
    "df = pd.read_csv('Hate_Speech.csv')  # Replace with your filename"
   ]
  },
  {
   "cell_type": "code",
   "execution_count": 4,
   "id": "ba7f9f8e",
   "metadata": {},
   "outputs": [],
   "source": [
    "# Preprocessing function\n",
    "def preprocess_text(text):\n",
    "    text = str(text).lower()\n",
    "    text = re.sub(r'@\\w+|http\\S+|[^a-zA-Z\\s]', '', text)  # Remove mentions/URLs\n",
    "    text = re.sub(r'\\s+', ' ', text).strip()  # Remove extra spaces\n",
    "    text = re.sub(r'&\\w+;', '', text)  # Remove HTML entities\n",
    "    words = word_tokenize(text)\n",
    "    stop_words = set(stopwords.words('english'))\n",
    "    filtered_words = [word for word in words if word not in stop_words and len(word) > 1]\n",
    "    return ' '.join(filtered_words)"
   ]
  },
  {
   "cell_type": "code",
   "execution_count": 5,
   "id": "e20ab952",
   "metadata": {},
   "outputs": [],
   "source": [
    "# Apply preprocessing\n",
    "df['cleaned_text'] = df['tweet'].apply(preprocess_text)"
   ]
  },
  {
   "cell_type": "code",
   "execution_count": 6,
   "id": "6a9dc935",
   "metadata": {},
   "outputs": [
    {
     "name": "stdout",
     "output_type": "stream",
     "text": [
      "class\n",
      "1    4163\n",
      "0    4163\n",
      "2    4163\n",
      "Name: count, dtype: int64\n"
     ]
    }
   ],
   "source": [
    "# Separate majority and minority classes\n",
    "df_majority = df[df['class'] == 2]  # Most samples (assume class 2 is majority)\n",
    "df_minority1 = df[df['class'] == 0]  # Few samples (hate speech)\n",
    "df_minority2 = df[df['class'] == 1]  # Few samples (offensive language)\n",
    "\n",
    "# Upsample minority class\n",
    "df_minority1_upsampled = resample(\n",
    "    df_minority1, \n",
    "    replace=True,     # Sample with replacement\n",
    "    n_samples=len(df_majority),    # To match majority class\n",
    "    random_state=42\n",
    ")\n",
    "\n",
    "df_minority2_upsampled = resample(\n",
    "    df_minority2, \n",
    "    replace=True,\n",
    "    n_samples=len(df_majority),\n",
    "    random_state=42\n",
    ")\n",
    "\n",
    "# Combine majority and upsampled minority\n",
    "df_balanced = pd.concat([df_majority, df_minority1_upsampled, df_minority2_upsampled])\n",
    "\n",
    "# Shuffle the dataset\n",
    "df_balanced = df_balanced.sample(frac=1, random_state=42).reset_index(drop=True)\n",
    "\n",
    "print(df_balanced['class'].value_counts())  # To check class balance"
   ]
  },
  {
   "cell_type": "code",
   "execution_count": 7,
   "id": "b3f4595c",
   "metadata": {},
   "outputs": [
    {
     "name": "stdout",
     "output_type": "stream",
     "text": [
      "Class distribution:\n",
      "class\n",
      "1    19190\n",
      "2     4163\n",
      "0     1430\n",
      "Name: count, dtype: int64\n"
     ]
    }
   ],
   "source": [
    "# Check class distribution\n",
    "print(\"Class distribution:\")\n",
    "print(df['class'].value_counts())"
   ]
  },
  {
   "cell_type": "code",
   "execution_count": 8,
   "id": "7ba92146",
   "metadata": {},
   "outputs": [],
   "source": [
    "# Split data\n",
    "X = df_balanced['cleaned_text']\n",
    "y = df_balanced['class']\n",
    "X_train, X_test, y_train, y_test = train_test_split(\n",
    "    X, y, \n",
    "    test_size=0.2, \n",
    "    stratify=y,\n",
    "    random_state=42\n",
    ")"
   ]
  },
  {
   "cell_type": "code",
   "execution_count": 9,
   "id": "5287299b",
   "metadata": {},
   "outputs": [],
   "source": [
    "# Convert labels to categorical (3 classes)\n",
    "NUM_CLASSES = 3\n",
    "y_train = to_categorical(y_train, num_classes=NUM_CLASSES)\n",
    "y_test = to_categorical(y_test, num_classes=NUM_CLASSES)"
   ]
  },
  {
   "cell_type": "code",
   "execution_count": 10,
   "id": "b36ffee4",
   "metadata": {},
   "outputs": [],
   "source": [
    "# Tokenization and padding\n",
    "max_words = 5000\n",
    "max_len = 100\n",
    "tokenizer = Tokenizer(num_words=max_words, oov_token='<OOV>')\n",
    "tokenizer.fit_on_texts(X_train)"
   ]
  },
  {
   "cell_type": "code",
   "execution_count": 11,
   "id": "ee642a99",
   "metadata": {},
   "outputs": [
    {
     "name": "stdout",
     "output_type": "stream",
     "text": [
      "Loaded 400000 word vectors from GloVe.\n"
     ]
    }
   ],
   "source": [
    "# Load GloVe embeddings\n",
    "embedding_index = {}\n",
    "with open('glove.6B.100d.txt', encoding='utf8') as f:\n",
    "    for line in f:\n",
    "        values = line.split()\n",
    "        word = values[0]\n",
    "        coefs = np.asarray(values[1:], dtype='float32')\n",
    "        embedding_index[word] = coefs\n",
    "print(f\"Loaded {len(embedding_index)} word vectors from GloVe.\")"
   ]
  },
  {
   "cell_type": "code",
   "execution_count": 12,
   "id": "975c4ca5",
   "metadata": {},
   "outputs": [],
   "source": [
    "embedding_dim = 100  # Because GloVe 100d\n",
    "\n",
    "embedding_matrix = np.zeros((max_words, embedding_dim))\n",
    "for word, i in tokenizer.word_index.items():\n",
    "    if i < max_words:\n",
    "        embedding_vector = embedding_index.get(word)\n",
    "        if embedding_vector is not None:\n",
    "            embedding_matrix[i] = embedding_vector"
   ]
  },
  {
   "cell_type": "code",
   "execution_count": 13,
   "id": "6dab93d0",
   "metadata": {},
   "outputs": [],
   "source": [
    "X_train_seq = tokenizer.texts_to_sequences(X_train)\n",
    "X_test_seq = tokenizer.texts_to_sequences(X_test)\n",
    "X_train_pad = pad_sequences(X_train_seq, maxlen=max_len, padding='post', truncating='post')\n",
    "X_test_pad = pad_sequences(X_test_seq, maxlen=max_len, padding='post', truncating='post')\n"
   ]
  },
  {
   "cell_type": "code",
   "execution_count": 14,
   "id": "ff8d2ba3",
   "metadata": {},
   "outputs": [
    {
     "name": "stdout",
     "output_type": "stream",
     "text": [
      "\n",
      "Class weights: {0: 5.776923076923077, 1: 0.43048462741010945, 2: 1.9843862599087196}\n"
     ]
    }
   ],
   "source": [
    "# Handle class imbalance\n",
    "class_counts = np.bincount(df['class'])\n",
    "total_samples = len(df)\n",
    "class_weights = {\n",
    "    0: total_samples / (NUM_CLASSES * class_counts[0]),\n",
    "    1: total_samples / (NUM_CLASSES * class_counts[1]),\n",
    "    2: total_samples / (NUM_CLASSES * class_counts[2])\n",
    "}\n",
    "print(\"\\nClass weights:\", class_weights)"
   ]
  },
  {
   "cell_type": "code",
   "execution_count": 15,
   "id": "c9ff88dc",
   "metadata": {},
   "outputs": [],
   "source": [
    "# Build LSTM model\n",
    "model = Sequential()\n",
    "model.add(Embedding(\n",
    "    input_dim=max_words,\n",
    "    output_dim=embedding_dim,\n",
    "    weights=[embedding_matrix],\n",
    "    input_length=max_len,\n",
    "    trainable=False\n",
    "))\n",
    "model.add(Bidirectional(LSTM(64, return_sequences=True)))\n",
    "model.add(Dropout(0.3))\n",
    "model.add(Bidirectional(LSTM(32)))\n",
    "model.add(Dropout(0.2))\n",
    "model.add(Dense(NUM_CLASSES, activation='softmax'))\n"
   ]
  },
  {
   "cell_type": "code",
   "execution_count": 16,
   "id": "e80b7f19",
   "metadata": {},
   "outputs": [],
   "source": [
    "# Custom weighted loss function\n",
    "def weighted_loss(y_true, y_pred):\n",
    "    weights = tf.constant([class_weights[0], class_weights[1], class_weights[2]], dtype=tf.float32)\n",
    "    ce = tf.keras.losses.categorical_crossentropy(y_true, y_pred)\n",
    "    weighted_ce = ce * tf.reduce_sum(y_true * weights, axis=1)\n",
    "    return tf.reduce_mean(weighted_ce)\n",
    "\n",
    "model.compile(\n",
    "    optimizer=tf.keras.optimizers.Adam(learning_rate=0.001),\n",
    "    loss=weighted_loss,\n",
    "    metrics=['accuracy',\n",
    "             tf.keras.metrics.Precision(name='precision'),\n",
    "             tf.keras.metrics.Recall(name='recall')]\n",
    ")"
   ]
  },
  {
   "cell_type": "code",
   "execution_count": 17,
   "id": "65cf8c6e",
   "metadata": {},
   "outputs": [],
   "source": [
    "# Callbacks\n",
    "early_stop = EarlyStopping(\n",
    "    monitor='val_accuracy',\n",
    "    patience=5,\n",
    "    mode='max',   # Important for accuracy!\n",
    "    restore_best_weights=True\n",
    ")\n",
    "reduce_lr = ReduceLROnPlateau(\n",
    "    monitor='val_loss',\n",
    "    factor=0.2,\n",
    "    patience=2,\n",
    "    min_lr=1e-6\n",
    ")"
   ]
  },
  {
   "cell_type": "code",
   "execution_count": 18,
   "id": "6e122a59",
   "metadata": {},
   "outputs": [
    {
     "name": "stdout",
     "output_type": "stream",
     "text": [
      "Epoch 1/20\n",
      "313/313 [==============================] - 36s 52ms/step - loss: 1.3672 - accuracy: 0.5286 - precision: 0.5422 - recall: 0.5081 - val_loss: 1.0160 - val_accuracy: 0.5697 - val_precision: 0.5842 - val_recall: 0.5528 - lr: 0.0010\n",
      "Epoch 2/20\n",
      "313/313 [==============================] - 15s 46ms/step - loss: 0.9549 - accuracy: 0.6290 - precision: 0.6448 - recall: 0.6032 - val_loss: 0.8189 - val_accuracy: 0.6689 - val_precision: 0.6769 - val_recall: 0.6417 - lr: 0.0010\n",
      "Epoch 3/20\n",
      "313/313 [==============================] - 14s 46ms/step - loss: 0.7635 - accuracy: 0.7051 - precision: 0.7149 - recall: 0.6846 - val_loss: 0.6919 - val_accuracy: 0.7558 - val_precision: 0.7667 - val_recall: 0.7366 - lr: 0.0010\n",
      "Epoch 4/20\n",
      "313/313 [==============================] - 15s 47ms/step - loss: 0.6219 - accuracy: 0.7636 - precision: 0.7693 - recall: 0.7524 - val_loss: 0.6615 - val_accuracy: 0.7386 - val_precision: 0.7460 - val_recall: 0.7302 - lr: 0.0010\n",
      "Epoch 5/20\n",
      "313/313 [==============================] - 15s 47ms/step - loss: 0.5322 - accuracy: 0.7910 - precision: 0.7961 - recall: 0.7824 - val_loss: 0.6910 - val_accuracy: 0.7810 - val_precision: 0.7840 - val_recall: 0.7730 - lr: 0.0010\n",
      "Epoch 6/20\n",
      "313/313 [==============================] - 15s 47ms/step - loss: 0.4470 - accuracy: 0.8249 - precision: 0.8309 - recall: 0.8199 - val_loss: 0.5706 - val_accuracy: 0.8375 - val_precision: 0.8410 - val_recall: 0.8319 - lr: 0.0010\n",
      "Epoch 7/20\n",
      "313/313 [==============================] - 15s 47ms/step - loss: 0.4048 - accuracy: 0.8424 - precision: 0.8470 - recall: 0.8358 - val_loss: 0.5204 - val_accuracy: 0.8243 - val_precision: 0.8288 - val_recall: 0.8199 - lr: 0.0010\n",
      "Epoch 8/20\n",
      "313/313 [==============================] - 15s 46ms/step - loss: 0.3341 - accuracy: 0.8612 - precision: 0.8653 - recall: 0.8578 - val_loss: 0.5825 - val_accuracy: 0.8763 - val_precision: 0.8788 - val_recall: 0.8735 - lr: 0.0010\n",
      "Epoch 9/20\n",
      "313/313 [==============================] - 14s 46ms/step - loss: 0.2990 - accuracy: 0.8756 - precision: 0.8784 - recall: 0.8724 - val_loss: 0.5220 - val_accuracy: 0.8587 - val_precision: 0.8628 - val_recall: 0.8535 - lr: 0.0010\n",
      "Epoch 10/20\n",
      "313/313 [==============================] - 15s 47ms/step - loss: 0.2414 - accuracy: 0.9017 - precision: 0.9033 - recall: 0.8999 - val_loss: 0.5081 - val_accuracy: 0.8739 - val_precision: 0.8777 - val_recall: 0.8703 - lr: 2.0000e-04\n",
      "Epoch 11/20\n",
      "313/313 [==============================] - 14s 45ms/step - loss: 0.2172 - accuracy: 0.9091 - precision: 0.9116 - recall: 0.9080 - val_loss: 0.5187 - val_accuracy: 0.8719 - val_precision: 0.8744 - val_recall: 0.8699 - lr: 2.0000e-04\n",
      "Epoch 12/20\n",
      "313/313 [==============================] - 15s 48ms/step - loss: 0.2053 - accuracy: 0.9130 - precision: 0.9155 - recall: 0.9115 - val_loss: 0.5281 - val_accuracy: 0.8847 - val_precision: 0.8859 - val_recall: 0.8831 - lr: 2.0000e-04\n",
      "Epoch 13/20\n",
      "313/313 [==============================] - 15s 46ms/step - loss: 0.1897 - accuracy: 0.9182 - precision: 0.9203 - recall: 0.9164 - val_loss: 0.5291 - val_accuracy: 0.8855 - val_precision: 0.8868 - val_recall: 0.8843 - lr: 4.0000e-05\n",
      "Epoch 14/20\n",
      "313/313 [==============================] - 14s 45ms/step - loss: 0.1823 - accuracy: 0.9223 - precision: 0.9242 - recall: 0.9207 - val_loss: 0.5270 - val_accuracy: 0.8891 - val_precision: 0.8907 - val_recall: 0.8875 - lr: 4.0000e-05\n",
      "Epoch 15/20\n",
      "313/313 [==============================] - 14s 45ms/step - loss: 0.1803 - accuracy: 0.9238 - precision: 0.9258 - recall: 0.9228 - val_loss: 0.5240 - val_accuracy: 0.8871 - val_precision: 0.8887 - val_recall: 0.8851 - lr: 8.0000e-06\n",
      "Epoch 16/20\n",
      "313/313 [==============================] - 15s 46ms/step - loss: 0.1774 - accuracy: 0.9226 - precision: 0.9243 - recall: 0.9214 - val_loss: 0.5231 - val_accuracy: 0.8871 - val_precision: 0.8895 - val_recall: 0.8859 - lr: 8.0000e-06\n",
      "Epoch 17/20\n",
      "313/313 [==============================] - 15s 46ms/step - loss: 0.1783 - accuracy: 0.9247 - precision: 0.9269 - recall: 0.9232 - val_loss: 0.5236 - val_accuracy: 0.8871 - val_precision: 0.8895 - val_recall: 0.8859 - lr: 1.6000e-06\n",
      "Epoch 18/20\n",
      "313/313 [==============================] - 15s 47ms/step - loss: 0.1782 - accuracy: 0.9228 - precision: 0.9246 - recall: 0.9211 - val_loss: 0.5238 - val_accuracy: 0.8871 - val_precision: 0.8895 - val_recall: 0.8859 - lr: 1.6000e-06\n",
      "Epoch 19/20\n",
      "313/313 [==============================] - 15s 47ms/step - loss: 0.1783 - accuracy: 0.9244 - precision: 0.9263 - recall: 0.9229 - val_loss: 0.5236 - val_accuracy: 0.8871 - val_precision: 0.8895 - val_recall: 0.8859 - lr: 1.0000e-06\n"
     ]
    }
   ],
   "source": [
    "# Train model\n",
    "history = model.fit(\n",
    "    X_train_pad, y_train,\n",
    "    validation_data=(X_test_pad, y_test),\n",
    "    epochs=20,\n",
    "    batch_size=32,\n",
    "    callbacks=[early_stop, reduce_lr],\n",
    "    verbose=1\n",
    ")"
   ]
  },
  {
   "cell_type": "code",
   "execution_count": 19,
   "id": "8434c804",
   "metadata": {},
   "outputs": [
    {
     "name": "stdout",
     "output_type": "stream",
     "text": [
      "79/79 [==============================] - 4s 21ms/step\n",
      "\n",
      "Classification Report:\n",
      "              precision    recall  f1-score   support\n",
      "\n",
      "           0       0.83      0.98      0.90       832\n",
      "           1       0.96      0.76      0.85       833\n",
      "           2       0.90      0.93      0.92       833\n",
      "\n",
      "    accuracy                           0.89      2498\n",
      "   macro avg       0.90      0.89      0.89      2498\n",
      "weighted avg       0.90      0.89      0.89      2498\n",
      "\n",
      "\n",
      "Confusion Matrix:\n",
      "[[814  11   7]\n",
      " [126 631  76]\n",
      " [ 39  18 776]]\n"
     ]
    }
   ],
   "source": [
    "# Evaluation\n",
    "y_pred = model.predict(X_test_pad)\n",
    "y_pred_classes = np.argmax(y_pred, axis=1)\n",
    "y_true_classes = np.argmax(y_test, axis=1)\n",
    "\n",
    "print(\"\\nClassification Report:\")\n",
    "print(classification_report(y_true_classes, y_pred_classes))\n",
    "\n",
    "print(\"\\nConfusion Matrix:\")\n",
    "print(confusion_matrix(y_true_classes, y_pred_classes))"
   ]
  },
  {
   "cell_type": "code",
   "execution_count": 20,
   "id": "6af2c666",
   "metadata": {},
   "outputs": [
    {
     "data": {
      "image/png": "[encoded data removed]",
      "text/plain": [
       "<Figure size 1500x600 with 2 Axes>"
      ]
     },
     "metadata": {},
     "output_type": "display_data"
    }
   ],
   "source": [
    "# Plot training history\n",
    "plt.figure(figsize=(15, 6))\n",
    "plt.subplot(1, 2, 1)\n",
    "plt.plot(history.history['loss'], label='Train Loss')\n",
    "plt.plot(history.history['val_loss'], label='Validation Loss')\n",
    "plt.legend()\n",
    "plt.title('Loss Evolution')\n",
    "\n",
    "plt.subplot(1, 2, 2)\n",
    "plt.plot(history.history['accuracy'], label='Train Accuracy')\n",
    "plt.plot(history.history['val_accuracy'], label='Validation Accuracy')\n",
    "plt.legend()\n",
    "plt.title('Accuracy Evolution')\n",
    "plt.show()"
   ]
  },
  {
   "cell_type": "code",
   "execution_count": null,
   "id": "db064877",
   "metadata": {},
   "outputs": [],
   "source": []
  }
 ],
 "metadata": {
  "kernelspec": {
   "display_name": ".venv",
   "language": "python",
   "name": "python3"
  },
  "language_info": {
   "codemirror_mode": {
    "name": "ipython",
    "version": 3
   },
   "file_extension": ".py",
   "mimetype": "text/x-python",
   "name": "python",
   "nbconvert_exporter": "python",
   "pygments_lexer": "ipython3",
   "version": "3.10.0"
  }
 },
 "nbformat": 4,
 "nbformat_minor": 5
}
